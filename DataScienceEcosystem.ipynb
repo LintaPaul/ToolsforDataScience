{
 "cells": [
  {
   "cell_type": "markdown",
   "id": "20c073e7-ec3a-4b96-8aaf-2b4a395a7712",
   "metadata": {
    "tags": []
   },
   "source": [
    "# Data Science Tools and Ecosystem"
   ]
  },
  {
   "cell_type": "markdown",
   "id": "f91aae0c-c559-4221-a0a6-30a0e99af54b",
   "metadata": {},
   "source": [
    "In this notebook, Data Science Tools and Ecosystem are summarized."
   ]
  },
  {
   "cell_type": "markdown",
   "id": "38f3894e-ce62-45d0-90f5-e3bb917e1498",
   "metadata": {},
   "source": [
    "**Objectives**\n",
    "- List popular languages for Data Science\n",
    "- List popular libraries for Data Science\n",
    "- List popular tools for Data Science"
   ]
  },
  {
   "cell_type": "markdown",
   "id": "e09c1774-e33a-4466-9f72-5d3f6cb77a8e",
   "metadata": {
    "tags": []
   },
   "source": [
    "Some of the popular languages that Data Scientists use are:\n",
    "1. Python\n",
    "2. R\n",
    "3. SQL"
   ]
  },
  {
   "cell_type": "markdown",
   "id": "88c6150d-3f30-4832-ad8b-13ecf6c6cf36",
   "metadata": {},
   "source": [
    "Some of the commonly used libraries used by Data Scientists include:"
   ]
  },
  {
   "cell_type": "markdown",
   "id": "880b980d-8ce4-42bf-b718-c5f92b3b18c4",
   "metadata": {},
   "source": [
    "1. TensorFlow\n",
    "2. NumPy\n",
    "3. Pandas\n"
   ]
  },
  {
   "cell_type": "markdown",
   "id": "0859f0c5-119b-425e-90d4-4b3a855397e3",
   "metadata": {},
   "source": [
    "| Data Science Tools |\n",
    "|------|\n",
    "|Spark|\n",
    "|Hadoop|\n",
    "|KNIME|"
   ]
  },
  {
   "cell_type": "markdown",
   "id": "b583e67b-37c4-4b1e-b8cf-79da0cc4a982",
   "metadata": {},
   "source": [
    "### Below are a few examples of evaluating arithmetic expressions in Python"
   ]
  },
  {
   "cell_type": "code",
   "execution_count": 6,
   "id": "5f28a4b7-a4d1-40a2-b366-d49237eb5e1a",
   "metadata": {
    "tags": []
   },
   "outputs": [
    {
     "data": {
      "text/plain": [
       "17"
      ]
     },
     "execution_count": 6,
     "metadata": {},
     "output_type": "execute_result"
    }
   ],
   "source": [
    "# This a simple arithmetic expression to mutiply then add integers\n",
    "(3*4)+5"
   ]
  },
  {
   "cell_type": "code",
   "execution_count": 7,
   "id": "cf82c9fd-1b6e-47fb-b428-a12b59bf0429",
   "metadata": {
    "tags": []
   },
   "outputs": [
    {
     "data": {
      "text/plain": [
       "3.3333333333333335"
      ]
     },
     "execution_count": 7,
     "metadata": {},
     "output_type": "execute_result"
    }
   ],
   "source": [
    "# This will convert 200 minutes to hours by diving by 60\n",
    "200/60"
   ]
  },
  {
   "cell_type": "markdown",
   "id": "65c4f15a-8c86-435a-8e74-496f6cd0dcd5",
   "metadata": {},
   "source": [
    "## Author\n",
    "Linta Paul"
   ]
  },
  {
   "cell_type": "code",
   "execution_count": null,
   "id": "27860d76-24bc-4fb1-bd3b-6cd59ec1310b",
   "metadata": {},
   "outputs": [],
   "source": []
  }
 ],
 "metadata": {
  "kernelspec": {
   "display_name": "Python",
   "language": "python",
   "name": "conda-env-python-py"
  },
  "language_info": {
   "codemirror_mode": {
    "name": "ipython",
    "version": 3
   },
   "file_extension": ".py",
   "mimetype": "text/x-python",
   "name": "python",
   "nbconvert_exporter": "python",
   "pygments_lexer": "ipython3",
   "version": "3.7.12"
  }
 },
 "nbformat": 4,
 "nbformat_minor": 5
}
